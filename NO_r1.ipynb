{
 "cells": [
  {
   "cell_type": "code",
   "execution_count": 2,
   "metadata": {},
   "outputs": [],
   "source": [
    "import csv\n",
    "import sys\n",
    "\n",
    "in_file = 'db/nr30_chains/feat_4_freq_NRaa.csv' #sys.argv[1]\n",
    "out_file = 'db/nr30_chains/feat_4_freq_NRaa_nor1.csv' #sys.argv[2]\n",
    "\n",
    "g = open(out_file,'w')\n",
    "w = csv.writer(g)\n",
    "\n",
    "#ls = ['Central Group', '# of r1', '# of r2', '# of r3', '# of r4', '# of r5', '# of r6', '# of r7', '# of r8', '# of r9', '# of r10', '# of r11', '# of r12', '# of r13', '# of r14', '# of r15', '# of r16', '# of r17', '# of r18', '# of r19']\n",
    "#w.writerow(ls)\n",
    "\n",
    "with open(in_file,'r') as f:\n",
    "        r = csv.reader(f)\n",
    "        next(r)\n",
    "        for line in r:\n",
    "                if str(line[0]) != '0':\n",
    "                        temp = line\n",
    "                        temp[0] = int(temp[0]) - 1\n",
    "                        w.writerow(temp)\n",
    "\n",
    "g.close()\n"
   ]
  },
  {
   "cell_type": "code",
   "execution_count": null,
   "metadata": {},
   "outputs": [],
   "source": []
  }
 ],
 "metadata": {
  "kernelspec": {
   "display_name": "Python 3",
   "language": "python",
   "name": "python3"
  },
  "language_info": {
   "codemirror_mode": {
    "name": "ipython",
    "version": 3
   },
   "file_extension": ".py",
   "mimetype": "text/x-python",
   "name": "python",
   "nbconvert_exporter": "python",
   "pygments_lexer": "ipython3",
   "version": "3.8.5"
  }
 },
 "nbformat": 4,
 "nbformat_minor": 4
}
