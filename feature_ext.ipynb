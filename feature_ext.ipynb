{
 "cells": [
  {
   "cell_type": "code",
   "execution_count": 15,
   "metadata": {},
   "outputs": [],
   "source": [
    "import os\n",
    "import csv\n",
    "import numpy as np\n",
    "import scipy.spatial as sp\n",
    "\n",
    "def fileread(gfile):\n",
    "# Reads gpdb file and appends CG to 'cg_nums', [x, y, z] to 'values', AA number to 'aa_nums' and Chain number to 'chain' which are lists\n",
    "    with open(gfile, 'r') as tfile:\n",
    "        tmpfile = tfile.readlines()\n",
    "    \n",
    "    cg_nums = []\n",
    "    values = []\n",
    "    aa_nums = []\n",
    "    chain = []\n",
    "    for i, dat in enumerate(tmpfile):\n",
    "        if dat[0:6].strip()==\"ATOM\":\n",
    "            cg_nums.append(dat[12:16].strip())\n",
    "            values.append([dat[31:38].strip(), dat[38:46].strip(), dat[46:54].strip()])\n",
    "            aa_nums.append(dat[22:27].strip())\n",
    "            chain.append(dat[21:22].strip())\n",
    "    return cg_nums, values, aa_nums, chain\n",
    "\n",
    "\n",
    "def nn_in_dmax(values, dmax):\n",
    "    tree = sp.cKDTree(values)\n",
    "    \n",
    "    dmax = float(dmax)\n",
    "    \n",
    "    # Gives index of all values within dmax radius\n",
    "    nn_inds = tree.query_ball_point(values, dmax)\n",
    "    \n",
    "    return nn_inds\n",
    "\n",
    "\n",
    "def make_NRaa(nn_inds, aa_nums, chain):\n",
    "    # Removes CGs from same amino acid as central CG\n",
    "    for i in range(len(nn_inds)):\n",
    "        for neighbour in nn_inds[i]:\n",
    "            if chain[int(neighbour)] == chain[i] and aa_nums[int(neighbour)] == aa_nums[i]:\n",
    "                nn_inds[i].remove(neighbour)\n",
    "    \n",
    "    return nn_inds\n",
    "    \n",
    "    \n",
    "def write_db(csv_file, f_mode, gpdb_num, cg_nums, NRaa_nn_inds, values):\n",
    "    # Write into csv_file with format:\n",
    "    # ls = ['GPDB #','Central Group','x','y','z','Group1','x1','y1','z1','Group2','x2','y2','z2', ...]\n",
    "    \n",
    "    f = open(csv_file, f_mode)\n",
    "    w = csv.writer(f)\n",
    "    \n",
    "    for i in range(len(NRaa_nn_inds)):\n",
    "        tmp = []\n",
    "        tmp.append(gpdb_num)\n",
    "        tmp.append(cg_nums[i])\n",
    "        tmp.extend(values[i])\n",
    "        for neighbour in NRaa_nn_inds[i]:\n",
    "            tmp.append(cg_nums[int(neighbour)])\n",
    "            tmp.extend(values[int(neighbour)])\n",
    "            \n",
    "        w.writerow(tmp)\n",
    "    \n",
    "\n",
    "gpdb_dir = os.getcwd()\n",
    "csv_file = 'feat_sample.csv'\n",
    "dmax = 8\n",
    "\n",
    "for filename in os.listdir(gpdb_dir):\n",
    "    if filename.endswith(\".gpdb\"):\n",
    "        gpdb_num = filename[:-5]\n",
    "        cg_nums, values, aa_nums, chain = fileread(filename)\n",
    "        nn_inds = nn_in_dmax(values, dmax)\n",
    "        NRaa_nn_inds = make_NRaa(nn_inds, aa_nums, chain)\n",
    "        write_db(csv_file, 'a+', gpdb_num, cg_nums, NRaa_nn_inds, values)\n",
    "        \n",
    "    "
   ]
  },
  {
   "cell_type": "markdown",
   "metadata": {},
   "source": [
    "---\n",
    "# Extract input features\n",
    "---"
   ]
  },
  {
   "cell_type": "code",
   "execution_count": 1,
   "metadata": {},
   "outputs": [
    {
     "name": "stdout",
     "output_type": "stream",
     "text": [
      "Max # of col = 137\n",
      "Row with max cols = 775272\n"
     ]
    }
   ],
   "source": [
    "# Count number of columns in the file\n",
    "import csv\n",
    "import sys\n",
    "\n",
    "csv_file = 'feat_db_5_sample.csv'\n",
    "\n",
    "f = open(csv_file,'r')\n",
    "r = csv.reader(f)\n",
    "\n",
    "arr = []\n",
    "i = 0\n",
    "mx = 0\n",
    "ind = 0\n",
    "for line in r:\n",
    "        #arr.append(len(line))\n",
    "        if mx < len(line):\n",
    "                mx = len(line)\n",
    "                ind = i\n",
    "        i+=1\n",
    "\n",
    "print('Max # of col =', mx)\n",
    "print('Row with max cols =', ind)\n"
   ]
  },
  {
   "cell_type": "code",
   "execution_count": 11,
   "metadata": {},
   "outputs": [],
   "source": [
    "'''\n",
    "Make input data of the form:\n",
    "[Central CG, # of r1, # of r2, ..., # of r16]\n",
    "'''\n",
    "\n",
    "import csv\n",
    "import numpy as np\n",
    "\n",
    "csv_file = 'feat_5_sample.csv'\n",
    "\n",
    "f = open(csv_file,'r')\n",
    "r = csv.reader(f)\n",
    "\n",
    "g = open('feat_5_PSSM.csv','w')\n",
    "w = csv.writer(g)\n",
    "\n",
    "ls = ['Central Group', '# of r1', '# of r2', '# of r3', '# of r4', '# of r5', '# of r6', '# of r7', '# of r8', '# of r9', '# of r10', '# of r11', '# of r12', '# of r13', '# of r14', '# of r15', '# of r16']\n",
    "w.writerow(ls)\n",
    "\n",
    "\n",
    "for line in r:\n",
    "    temp = [0]*17 #np.zeros((17,))\n",
    "    temp[0] = int(line[1][1:]) - 1\n",
    "    i = 0\n",
    "    for ele in line[5:]:\n",
    "        if i%4 == 0:\n",
    "            cg = int(ele[1:])\n",
    "            temp[cg]+=1\n",
    "        i+=1\n",
    "    w.writerow(temp)\n",
    "\n",
    "f.close()\n",
    "g.close()\n"
   ]
  },
  {
   "cell_type": "markdown",
   "metadata": {},
   "source": [
    "---\n",
    "---\n",
    "# Rough Work\n",
    "---\n",
    "---"
   ]
  },
  {
   "cell_type": "code",
   "execution_count": 2,
   "metadata": {},
   "outputs": [
    {
     "name": "stdout",
     "output_type": "stream",
     "text": [
      "[[4, 6], [9, 11, 13]]\n"
     ]
    }
   ],
   "source": [
    "myList = [[2, 4, 6], [9, 11, 13]]\n",
    "myList[0].remove(2)\n",
    "print(myList)"
   ]
  },
  {
   "cell_type": "code",
   "execution_count": 36,
   "metadata": {},
   "outputs": [
    {
     "name": "stdout",
     "output_type": "stream",
     "text": [
      "['PSSM col1', 'PSSM col2', 'PSSM col3', 'PSSM col4', 'PSSM col5', 'PSSM col6', 'PSSM col7', 'PSSM col8', 'PSSM col9', 'PSSM col10', 'PSSM col11', 'PSSM col12', 'PSSM col13', 'PSSM col14', 'PSSM col15', 'PSSM col16', 'PSSM col17', 'PSSM col18', 'PSSM col19', 'PSSM col20']\n"
     ]
    }
   ],
   "source": [
    "a = []\n",
    "for i in range(1,21):\n",
    "    a.append('PSSM col%s'%i)\n",
    "print(a)"
   ]
  },
  {
   "cell_type": "code",
   "execution_count": 1,
   "metadata": {},
   "outputs": [
    {
     "name": "stdout",
     "output_type": "stream",
     "text": [
      "1\n",
      "{'index': 1, 'res_id': 0, 'aa': 'M', 'iter': {'2': {'pssm': ['-3', '-4', '-5', '-6', '-4', '-3', '-5', '-5', '-4', '-1', '0', '-4', '10', '-2', '-5', '-4', '-3', '-4', '-3', '-2'], 'psfm': ['0', '0', '0', '0', '0', '0', '0', '0', '0', '0', '0', '0', '100', '0', '0', '0', '0', '0', '0', '0'], 'a': '2.33', 'b': '0.52'}, '3': {'pssm': ['-3', '-3', '-4', '-5', '-3', '-2', '-4', '-5', '-4', '-1', '0', '-3', '10', '-2', '-5', '-4', '-3', '-3', '-3', '-1'], 'psfm': ['0', '0', '0', '0', '0', '0', '0', '0', '0', '0', '0', '0', '100', '0', '0', '0', '0', '0', '0', '0'], 'a': '2.11', 'b': '0.44'}}}\n"
     ]
    }
   ],
   "source": [
    "import json\n",
    "\n",
    "with open('PSSM/101M','r') as f:\n",
    "    data = json.load(f)    \n",
    "\n",
    "print(len(data))\n",
    "print(data['A'][0])"
   ]
  },
  {
   "cell_type": "code",
   "execution_count": 35,
   "metadata": {},
   "outputs": [
    {
     "name": "stdout",
     "output_type": "stream",
     "text": [
      "40\n",
      "['-3', '-3', '-4', '-5', '-3', '-2', '-4', '-5', '-4', '-1', '0', '-3', '10', '-2', '-5', '-4', '-3', '-3', '-3', '-1', '0', '-2', '-1', '-2', '-2', '-1', '-1', '3', '-2', '-2', '-2', '-2', '0', '-3', '-2', '3', '2', '-4', '-3', '0']\n"
     ]
    }
   ],
   "source": [
    "arr = [0]*42\n",
    "# for i in range(len(data['A'])):\n",
    "#     arr.append(data['A'][i]['iter']['3']['pssm'])\n",
    "# arr = [int(i) for i in arr]\n",
    "arr[:20] = data['A'][0]['iter']['3']['pssm']\n",
    "arr[20:] = data['A'][1]['iter']['3']['pssm']\n",
    "\n",
    "print(len(arr))\n",
    "print(arr)"
   ]
  },
  {
   "cell_type": "code",
   "execution_count": 43,
   "metadata": {},
   "outputs": [],
   "source": [
    "'''\n",
    "Make input data of the form:\n",
    "[Central CG, # of r1, # of r2, ..., # of r16]\n",
    "'''\n",
    "\n",
    "import csv\n",
    "import numpy as np\n",
    "\n",
    "csv_file = 'feat_db_5_NN_train.csv'\n",
    "\n",
    "f = open(csv_file,'r')\n",
    "r = csv.reader(f)\n",
    "\n",
    "g = open('feat_5_PSSM.csv','w')\n",
    "w = csv.writer(g)\n",
    "\n",
    "ls = ['Central Group', '# of r1', '# of r2', '# of r3', '# of r4', '# of r5', '# of r6', '# of r7', '# of r8', '# of r9', '# of r10', '# of r11', '# of r12', '# of r13', '# of r14', '# of r15', '# of r16', 'PSSM col1', 'PSSM col2', 'PSSM col3', 'PSSM col4', 'PSSM col5', 'PSSM col6', 'PSSM col7', 'PSSM col8', 'PSSM col9', 'PSSM col10', 'PSSM col11', 'PSSM col12', 'PSSM col13', 'PSSM col14', 'PSSM col15', 'PSSM col16', 'PSSM col17', 'PSSM col18', 'PSSM col19', 'PSSM col20']\n",
    "w.writerow(ls)\n",
    "\n",
    "\n",
    "for line in r:\n",
    "    temp = [0]*37 #np.zeros((17,))\n",
    "    temp[0] = int(line[3][1:]) - 1\n",
    "    i = 0\n",
    "    for ele in line[7:]:\n",
    "        if i%4 == 0:\n",
    "            cg = int(ele[1:])\n",
    "            temp[cg]+=1\n",
    "        i+=1\n",
    "        \n",
    "    pdb = line[0]\n",
    "    chain = line[1]\n",
    "    aa_ind = int(line[2])\n",
    "    p_file = 'PSSM/%s'%pdb\n",
    "    with open(p_file,'r') as p:\n",
    "        data = json.load(p)\n",
    "    pssv = data[chain][aa_ind]['iter']['3']['pssm']\n",
    "    pssv = [int(k) for k in pssv]\n",
    "    temp[17:] = pssv\n",
    "\n",
    "    w.writerow(temp)\n",
    "    break\n",
    "    \n",
    "f.close()\n",
    "g.close()\n",
    "\n"
   ]
  },
  {
   "cell_type": "code",
   "execution_count": 1,
   "metadata": {},
   "outputs": [
    {
     "name": "stdout",
     "output_type": "stream",
     "text": [
      "3\n"
     ]
    }
   ],
   "source": [
    "import pandas as pd\n",
    "arr = pd.Series([1,2,3,4])\n",
    "\n",
    "print(arr.idxmax())"
   ]
  },
  {
   "cell_type": "code",
   "execution_count": null,
   "metadata": {},
   "outputs": [],
   "source": []
  }
 ],
 "metadata": {
  "kernelspec": {
   "display_name": "Python 3",
   "language": "python",
   "name": "python3"
  },
  "language_info": {
   "codemirror_mode": {
    "name": "ipython",
    "version": 3
   },
   "file_extension": ".py",
   "mimetype": "text/x-python",
   "name": "python",
   "nbconvert_exporter": "python",
   "pygments_lexer": "ipython3",
   "version": "3.8.5"
  }
 },
 "nbformat": 4,
 "nbformat_minor": 4
}
